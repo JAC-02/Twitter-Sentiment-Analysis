{
  "nbformat": 4,
  "nbformat_minor": 0,
  "metadata": {
    "colab": {
      "provenance": [],
      "authorship_tag": "ABX9TyN7CUC8TEW29fjehXdfHzcl",
      "include_colab_link": true
    },
    "kernelspec": {
      "name": "python3",
      "display_name": "Python 3"
    },
    "language_info": {
      "name": "python"
    }
  },
  "cells": [
    {
      "cell_type": "markdown",
      "metadata": {
        "id": "view-in-github",
        "colab_type": "text"
      },
      "source": [
        "<a href=\"https://colab.research.google.com/github/JAC-02/Twitter-Sentiment-Analysis/blob/main/Twitter_Sentiment_Analysis.ipynb\" target=\"_parent\"><img src=\"https://colab.research.google.com/assets/colab-badge.svg\" alt=\"Open In Colab\"/></a>"
      ]
    },
    {
      "cell_type": "code",
      "execution_count": 1,
      "metadata": {
        "id": "152RKfqGHfl4"
      },
      "outputs": [],
      "source": [
        "#import essential libaries\n",
        "import tweepy # open source Python package that gives you a very convenient way to access the Twitter API with Python\n",
        "from textblob import TextBlob #a Python library for processing textual data.\n",
        "from wordcloud import WordCloud#a Python library that will present a cloud filled with lots of words in different sizes, which represent the frequency or the importance of each word\n",
        "import numpy as np\n",
        "import pandas as pd\n",
        "import re\n",
        "import matplotlib.pyplot as plt\n",
        "import seaborn as sns\n",
        "plt.style.use('dark_background')\n"
      ]
    },
    {
      "cell_type": "code",
      "source": [
        "consumerkey = \"UAVN2nt3bcfvhliuikyyjszxdfghbj\"\n",
        "consumersecret = \"zsxdfcgvhbjnjhgfdzsxfcgvhbjvgcgx\"\n",
        "accesstoken =\"wertyuiasdfghjbvcxzxcvbnbvcxcvbn\"\n",
        "accesstokensecret = \"fgbgcxcvhcfgvhbjnjnhgvxdcfgvhbh\""
      ],
      "metadata": {
        "id": "JgYTmWG2Hudv"
      },
      "execution_count": 2,
      "outputs": []
    },
    {
      "cell_type": "code",
      "source": [
        "#creating the authentiction object\n",
        "authenticate = tweepy.OAuthHandler(consumerkey, consumersecret)\n",
        "\n",
        "#Set the access token and access secret token\n",
        "\n",
        "authenticate.set_access_token(accesstoken, accesstokensecret)\n",
        "\n",
        "#Create API while passing in the auth information\n",
        "\n",
        "api = tweepy.API(authenticate, wait_on_rate_limit=True)"
      ],
      "metadata": {
        "id": "09KBHnQ6J5Pk"
      },
      "execution_count": 3,
      "outputs": []
    },
    {
      "cell_type": "code",
      "source": [
        "#Extracting 400 tweet from user a well know controversial Big brother ex-housemate fan(swedishlove)\n",
        "posts_extraction = api.user_timeline(screen_name = \"SwedishLovee\", count = 200, lan = \"en\", tweet_mode = \"extended\")\n",
        "\n",
        "#print out the last 10 tweet from SwedishLovee account\n",
        "print(\"Show 10 recent tweets from Swedish: /n\")\n",
        "\n",
        "n = 1\n",
        "for posts in posts_extraction[0:10]:\n",
        "    print(str(n) + ')' + posts.full_text + '/n')\n",
        "    n = n+1\n"
      ],
      "metadata": {
        "colab": {
          "base_uri": "https://localhost:8080/"
        },
        "id": "nxEDhlfyKA9h",
        "outputId": "e446f48b-f9c9-48e4-a8d1-e834ae5ec294"
      },
      "execution_count": 4,
      "outputs": [
        {
          "output_type": "stream",
          "name": "stdout",
          "text": [
            "Show 10 recent tweets from Swedish: /n\n",
            "1)@Julyannsark Ehn?? You didn’t watch the fashion tasks in the house?/n\n",
            "2)@Julyannsark Yes🗣/n\n",
            "3)And Hermes https://t.co/Cyc4vuizSd/n\n",
            "4)RT @MontshengMadon1: My focus : Beauty Estanyi Tukura \n",
            "\n",
            "DOLLAR QUEEN\n",
            "10 DAYS TO STRIKING25\n",
            "#BeautyTukura\n",
            "#BeeNavy https://t.co/g6zTFiszs1/n\n",
            "5)Unathi?😂😂😂/n\n",
            "6)RT @Iam_Unathi: See babe now 🥹🥹/n\n",
            "7)See babe naw🥵 https://t.co/wSWe0gKiRM/n\n",
            "8)Wow https://t.co/7qwKMbE2MN/n\n",
            "9)@Nezr1 @Moyojoy1 Ahhhh/n\n",
            "10)@Nezr1 Where did you see her outfit let me check/n\n"
          ]
        }
      ]
    },
    {
      "cell_type": "code",
      "source": [
        "#Now, let me proceed to create a dataframe called Tweets_by_Swedish. This dataframe will store all the tweet from Swedish \n",
        "data = pd.DataFrame([posts.full_text for posts in posts_extraction], columns = [\"Tweets_by_Swedish\"])\n",
        "\n",
        "#Automatically show the first five columns of the data\n",
        "data.head()"
      ],
      "metadata": {
        "colab": {
          "base_uri": "https://localhost:8080/",
          "height": 206
        },
        "id": "E1Jz8C3sKG3x",
        "outputId": "58f0533a-db47-4350-fa6a-9b0445c65879"
      },
      "execution_count": 5,
      "outputs": [
        {
          "output_type": "execute_result",
          "data": {
            "text/plain": [
              "                                   Tweets_by_Swedish\n",
              "0  @Julyannsark Ehn?? You didn’t watch the fashio...\n",
              "1                                  @Julyannsark Yes🗣\n",
              "2                 And Hermes https://t.co/Cyc4vuizSd\n",
              "3  RT @MontshengMadon1: My focus : Beauty Estanyi...\n",
              "4                                         Unathi?😂😂😂"
            ],
            "text/html": [
              "\n",
              "  <div id=\"df-3c8c0541-ea84-4093-a38c-509324bca1e2\">\n",
              "    <div class=\"colab-df-container\">\n",
              "      <div>\n",
              "<style scoped>\n",
              "    .dataframe tbody tr th:only-of-type {\n",
              "        vertical-align: middle;\n",
              "    }\n",
              "\n",
              "    .dataframe tbody tr th {\n",
              "        vertical-align: top;\n",
              "    }\n",
              "\n",
              "    .dataframe thead th {\n",
              "        text-align: right;\n",
              "    }\n",
              "</style>\n",
              "<table border=\"1\" class=\"dataframe\">\n",
              "  <thead>\n",
              "    <tr style=\"text-align: right;\">\n",
              "      <th></th>\n",
              "      <th>Tweets_by_Swedish</th>\n",
              "    </tr>\n",
              "  </thead>\n",
              "  <tbody>\n",
              "    <tr>\n",
              "      <th>0</th>\n",
              "      <td>@Julyannsark Ehn?? You didn’t watch the fashio...</td>\n",
              "    </tr>\n",
              "    <tr>\n",
              "      <th>1</th>\n",
              "      <td>@Julyannsark Yes🗣</td>\n",
              "    </tr>\n",
              "    <tr>\n",
              "      <th>2</th>\n",
              "      <td>And Hermes https://t.co/Cyc4vuizSd</td>\n",
              "    </tr>\n",
              "    <tr>\n",
              "      <th>3</th>\n",
              "      <td>RT @MontshengMadon1: My focus : Beauty Estanyi...</td>\n",
              "    </tr>\n",
              "    <tr>\n",
              "      <th>4</th>\n",
              "      <td>Unathi?😂😂😂</td>\n",
              "    </tr>\n",
              "  </tbody>\n",
              "</table>\n",
              "</div>\n",
              "      <button class=\"colab-df-convert\" onclick=\"convertToInteractive('df-3c8c0541-ea84-4093-a38c-509324bca1e2')\"\n",
              "              title=\"Convert this dataframe to an interactive table.\"\n",
              "              style=\"display:none;\">\n",
              "        \n",
              "  <svg xmlns=\"http://www.w3.org/2000/svg\" height=\"24px\"viewBox=\"0 0 24 24\"\n",
              "       width=\"24px\">\n",
              "    <path d=\"M0 0h24v24H0V0z\" fill=\"none\"/>\n",
              "    <path d=\"M18.56 5.44l.94 2.06.94-2.06 2.06-.94-2.06-.94-.94-2.06-.94 2.06-2.06.94zm-11 1L8.5 8.5l.94-2.06 2.06-.94-2.06-.94L8.5 2.5l-.94 2.06-2.06.94zm10 10l.94 2.06.94-2.06 2.06-.94-2.06-.94-.94-2.06-.94 2.06-2.06.94z\"/><path d=\"M17.41 7.96l-1.37-1.37c-.4-.4-.92-.59-1.43-.59-.52 0-1.04.2-1.43.59L10.3 9.45l-7.72 7.72c-.78.78-.78 2.05 0 2.83L4 21.41c.39.39.9.59 1.41.59.51 0 1.02-.2 1.41-.59l7.78-7.78 2.81-2.81c.8-.78.8-2.07 0-2.86zM5.41 20L4 18.59l7.72-7.72 1.47 1.35L5.41 20z\"/>\n",
              "  </svg>\n",
              "      </button>\n",
              "      \n",
              "  <style>\n",
              "    .colab-df-container {\n",
              "      display:flex;\n",
              "      flex-wrap:wrap;\n",
              "      gap: 12px;\n",
              "    }\n",
              "\n",
              "    .colab-df-convert {\n",
              "      background-color: #E8F0FE;\n",
              "      border: none;\n",
              "      border-radius: 50%;\n",
              "      cursor: pointer;\n",
              "      display: none;\n",
              "      fill: #1967D2;\n",
              "      height: 32px;\n",
              "      padding: 0 0 0 0;\n",
              "      width: 32px;\n",
              "    }\n",
              "\n",
              "    .colab-df-convert:hover {\n",
              "      background-color: #E2EBFA;\n",
              "      box-shadow: 0px 1px 2px rgba(60, 64, 67, 0.3), 0px 1px 3px 1px rgba(60, 64, 67, 0.15);\n",
              "      fill: #174EA6;\n",
              "    }\n",
              "\n",
              "    [theme=dark] .colab-df-convert {\n",
              "      background-color: #3B4455;\n",
              "      fill: #D2E3FC;\n",
              "    }\n",
              "\n",
              "    [theme=dark] .colab-df-convert:hover {\n",
              "      background-color: #434B5C;\n",
              "      box-shadow: 0px 1px 3px 1px rgba(0, 0, 0, 0.15);\n",
              "      filter: drop-shadow(0px 1px 2px rgba(0, 0, 0, 0.3));\n",
              "      fill: #FFFFFF;\n",
              "    }\n",
              "  </style>\n",
              "\n",
              "      <script>\n",
              "        const buttonEl =\n",
              "          document.querySelector('#df-3c8c0541-ea84-4093-a38c-509324bca1e2 button.colab-df-convert');\n",
              "        buttonEl.style.display =\n",
              "          google.colab.kernel.accessAllowed ? 'block' : 'none';\n",
              "\n",
              "        async function convertToInteractive(key) {\n",
              "          const element = document.querySelector('#df-3c8c0541-ea84-4093-a38c-509324bca1e2');\n",
              "          const dataTable =\n",
              "            await google.colab.kernel.invokeFunction('convertToInteractive',\n",
              "                                                     [key], {});\n",
              "          if (!dataTable) return;\n",
              "\n",
              "          const docLinkHtml = 'Like what you see? Visit the ' +\n",
              "            '<a target=\"_blank\" href=https://colab.research.google.com/notebooks/data_table.ipynb>data table notebook</a>'\n",
              "            + ' to learn more about interactive tables.';\n",
              "          element.innerHTML = '';\n",
              "          dataTable['output_type'] = 'display_data';\n",
              "          await google.colab.output.renderOutput(dataTable, element);\n",
              "          const docLink = document.createElement('div');\n",
              "          docLink.innerHTML = docLinkHtml;\n",
              "          element.appendChild(docLink);\n",
              "        }\n",
              "      </script>\n",
              "    </div>\n",
              "  </div>\n",
              "  "
            ]
          },
          "metadata": {},
          "execution_count": 5
        }
      ]
    },
    {
      "cell_type": "code",
      "source": [
        "#Create a functionn to tidy uu our dataset i.e remove unnecessary information\n",
        "def tidyText(text):\n",
        "    text= re.sub(r'@[A-Za-z0-9]+','', text) #To remove the mentions\n",
        "    \n",
        "    text = re.sub(r'#', '', text) #To remove the hashtags\n",
        "    \n",
        "    text = re.sub(r'RT[\\s]+','', text) #To remove mention\n",
        "    \n",
        "    text = re.sub(r'https?:\\/\\/\\S+', '', text) #To remove hyperlinks\n",
        "    \n",
        "    return text"
      ],
      "metadata": {
        "id": "xGX8pR_4Ki3T"
      },
      "execution_count": 6,
      "outputs": []
    },
    {
      "cell_type": "code",
      "source": [
        "#Apply the tidy text to the dataframe\n",
        "data['Tweets_by_Swedish'] = data['Tweets_by_Swedish'].apply(tidyText)\n",
        "\n",
        "#Visualizing the first five columns\n",
        "data.head()"
      ],
      "metadata": {
        "colab": {
          "base_uri": "https://localhost:8080/",
          "height": 206
        },
        "id": "x0BtcdcwK2XU",
        "outputId": "577663fd-e0d4-42fa-c744-09be37b3ba04"
      },
      "execution_count": 7,
      "outputs": [
        {
          "output_type": "execute_result",
          "data": {
            "text/plain": [
              "                                   Tweets_by_Swedish\n",
              "0   Ehn?? You didn’t watch the fashion tasks in t...\n",
              "1                                               Yes🗣\n",
              "2                                        And Hermes \n",
              "3  : My focus : Beauty Estanyi Tukura \\n\\nDOLLAR ...\n",
              "4                                         Unathi?😂😂😂"
            ],
            "text/html": [
              "\n",
              "  <div id=\"df-c9be949c-dab9-40a6-be16-335b60811439\">\n",
              "    <div class=\"colab-df-container\">\n",
              "      <div>\n",
              "<style scoped>\n",
              "    .dataframe tbody tr th:only-of-type {\n",
              "        vertical-align: middle;\n",
              "    }\n",
              "\n",
              "    .dataframe tbody tr th {\n",
              "        vertical-align: top;\n",
              "    }\n",
              "\n",
              "    .dataframe thead th {\n",
              "        text-align: right;\n",
              "    }\n",
              "</style>\n",
              "<table border=\"1\" class=\"dataframe\">\n",
              "  <thead>\n",
              "    <tr style=\"text-align: right;\">\n",
              "      <th></th>\n",
              "      <th>Tweets_by_Swedish</th>\n",
              "    </tr>\n",
              "  </thead>\n",
              "  <tbody>\n",
              "    <tr>\n",
              "      <th>0</th>\n",
              "      <td>Ehn?? You didn’t watch the fashion tasks in t...</td>\n",
              "    </tr>\n",
              "    <tr>\n",
              "      <th>1</th>\n",
              "      <td>Yes🗣</td>\n",
              "    </tr>\n",
              "    <tr>\n",
              "      <th>2</th>\n",
              "      <td>And Hermes</td>\n",
              "    </tr>\n",
              "    <tr>\n",
              "      <th>3</th>\n",
              "      <td>: My focus : Beauty Estanyi Tukura \\n\\nDOLLAR ...</td>\n",
              "    </tr>\n",
              "    <tr>\n",
              "      <th>4</th>\n",
              "      <td>Unathi?😂😂😂</td>\n",
              "    </tr>\n",
              "  </tbody>\n",
              "</table>\n",
              "</div>\n",
              "      <button class=\"colab-df-convert\" onclick=\"convertToInteractive('df-c9be949c-dab9-40a6-be16-335b60811439')\"\n",
              "              title=\"Convert this dataframe to an interactive table.\"\n",
              "              style=\"display:none;\">\n",
              "        \n",
              "  <svg xmlns=\"http://www.w3.org/2000/svg\" height=\"24px\"viewBox=\"0 0 24 24\"\n",
              "       width=\"24px\">\n",
              "    <path d=\"M0 0h24v24H0V0z\" fill=\"none\"/>\n",
              "    <path d=\"M18.56 5.44l.94 2.06.94-2.06 2.06-.94-2.06-.94-.94-2.06-.94 2.06-2.06.94zm-11 1L8.5 8.5l.94-2.06 2.06-.94-2.06-.94L8.5 2.5l-.94 2.06-2.06.94zm10 10l.94 2.06.94-2.06 2.06-.94-2.06-.94-.94-2.06-.94 2.06-2.06.94z\"/><path d=\"M17.41 7.96l-1.37-1.37c-.4-.4-.92-.59-1.43-.59-.52 0-1.04.2-1.43.59L10.3 9.45l-7.72 7.72c-.78.78-.78 2.05 0 2.83L4 21.41c.39.39.9.59 1.41.59.51 0 1.02-.2 1.41-.59l7.78-7.78 2.81-2.81c.8-.78.8-2.07 0-2.86zM5.41 20L4 18.59l7.72-7.72 1.47 1.35L5.41 20z\"/>\n",
              "  </svg>\n",
              "      </button>\n",
              "      \n",
              "  <style>\n",
              "    .colab-df-container {\n",
              "      display:flex;\n",
              "      flex-wrap:wrap;\n",
              "      gap: 12px;\n",
              "    }\n",
              "\n",
              "    .colab-df-convert {\n",
              "      background-color: #E8F0FE;\n",
              "      border: none;\n",
              "      border-radius: 50%;\n",
              "      cursor: pointer;\n",
              "      display: none;\n",
              "      fill: #1967D2;\n",
              "      height: 32px;\n",
              "      padding: 0 0 0 0;\n",
              "      width: 32px;\n",
              "    }\n",
              "\n",
              "    .colab-df-convert:hover {\n",
              "      background-color: #E2EBFA;\n",
              "      box-shadow: 0px 1px 2px rgba(60, 64, 67, 0.3), 0px 1px 3px 1px rgba(60, 64, 67, 0.15);\n",
              "      fill: #174EA6;\n",
              "    }\n",
              "\n",
              "    [theme=dark] .colab-df-convert {\n",
              "      background-color: #3B4455;\n",
              "      fill: #D2E3FC;\n",
              "    }\n",
              "\n",
              "    [theme=dark] .colab-df-convert:hover {\n",
              "      background-color: #434B5C;\n",
              "      box-shadow: 0px 1px 3px 1px rgba(0, 0, 0, 0.15);\n",
              "      filter: drop-shadow(0px 1px 2px rgba(0, 0, 0, 0.3));\n",
              "      fill: #FFFFFF;\n",
              "    }\n",
              "  </style>\n",
              "\n",
              "      <script>\n",
              "        const buttonEl =\n",
              "          document.querySelector('#df-c9be949c-dab9-40a6-be16-335b60811439 button.colab-df-convert');\n",
              "        buttonEl.style.display =\n",
              "          google.colab.kernel.accessAllowed ? 'block' : 'none';\n",
              "\n",
              "        async function convertToInteractive(key) {\n",
              "          const element = document.querySelector('#df-c9be949c-dab9-40a6-be16-335b60811439');\n",
              "          const dataTable =\n",
              "            await google.colab.kernel.invokeFunction('convertToInteractive',\n",
              "                                                     [key], {});\n",
              "          if (!dataTable) return;\n",
              "\n",
              "          const docLinkHtml = 'Like what you see? Visit the ' +\n",
              "            '<a target=\"_blank\" href=https://colab.research.google.com/notebooks/data_table.ipynb>data table notebook</a>'\n",
              "            + ' to learn more about interactive tables.';\n",
              "          element.innerHTML = '';\n",
              "          dataTable['output_type'] = 'display_data';\n",
              "          await google.colab.output.renderOutput(dataTable, element);\n",
              "          const docLink = document.createElement('div');\n",
              "          docLink.innerHTML = docLinkHtml;\n",
              "          element.appendChild(docLink);\n",
              "        }\n",
              "      </script>\n",
              "    </div>\n",
              "  </div>\n",
              "  "
            ]
          },
          "metadata": {},
          "execution_count": 7
        }
      ]
    },
    {
      "cell_type": "code",
      "source": [
        "#Create a function to get subjectivity and polarity\n",
        "def Getsubjectivity(text):\n",
        "    return TextBlob(text).sentiment.subjectivity\n",
        "\n",
        "def Getpolarity(text):\n",
        "    return TextBlob(text).sentiment.polarity\n",
        "\n",
        "\n",
        "#Create two columns that will contain this\n",
        "data['Subjectivity'] = data['Tweets_by_Swedish'].apply(Getsubjectivity)\n",
        "data['Polarity'] = data['Tweets_by_Swedish'].apply(Getpolarity)\n",
        "\n",
        "#Show the first five dataframe with columns\n",
        "data"
      ],
      "metadata": {
        "colab": {
          "base_uri": "https://localhost:8080/",
          "height": 424
        },
        "id": "dpzmZrebK9kE",
        "outputId": "6d7513d6-5ee4-4a41-d80b-e09967de14a5"
      },
      "execution_count": 8,
      "outputs": [
        {
          "output_type": "execute_result",
          "data": {
            "text/plain": [
              "                                     Tweets_by_Swedish  Subjectivity  Polarity\n",
              "0     Ehn?? You didn’t watch the fashion tasks in t...           0.0       0.0\n",
              "1                                                 Yes🗣           0.0       0.0\n",
              "2                                          And Hermes            0.0       0.0\n",
              "3    : My focus : Beauty Estanyi Tukura \\n\\nDOLLAR ...           0.0       0.0\n",
              "4                                           Unathi?😂😂😂           0.0       0.0\n",
              "..                                                 ...           ...       ...\n",
              "195                                       : 7. BEAUTY            0.0       0.0\n",
              "196                      I’m actually screaming 🤣🤣🤣🤣🤣🤣           0.1       0.0\n",
              "197                                                              0.0       0.0\n",
              "198                               Lmfao who will cry?            0.0       0.0\n",
              "199                                                 :            0.0       0.0\n",
              "\n",
              "[200 rows x 3 columns]"
            ],
            "text/html": [
              "\n",
              "  <div id=\"df-73ffbc8a-89f7-4564-a2a8-8dea035fae15\">\n",
              "    <div class=\"colab-df-container\">\n",
              "      <div>\n",
              "<style scoped>\n",
              "    .dataframe tbody tr th:only-of-type {\n",
              "        vertical-align: middle;\n",
              "    }\n",
              "\n",
              "    .dataframe tbody tr th {\n",
              "        vertical-align: top;\n",
              "    }\n",
              "\n",
              "    .dataframe thead th {\n",
              "        text-align: right;\n",
              "    }\n",
              "</style>\n",
              "<table border=\"1\" class=\"dataframe\">\n",
              "  <thead>\n",
              "    <tr style=\"text-align: right;\">\n",
              "      <th></th>\n",
              "      <th>Tweets_by_Swedish</th>\n",
              "      <th>Subjectivity</th>\n",
              "      <th>Polarity</th>\n",
              "    </tr>\n",
              "  </thead>\n",
              "  <tbody>\n",
              "    <tr>\n",
              "      <th>0</th>\n",
              "      <td>Ehn?? You didn’t watch the fashion tasks in t...</td>\n",
              "      <td>0.0</td>\n",
              "      <td>0.0</td>\n",
              "    </tr>\n",
              "    <tr>\n",
              "      <th>1</th>\n",
              "      <td>Yes🗣</td>\n",
              "      <td>0.0</td>\n",
              "      <td>0.0</td>\n",
              "    </tr>\n",
              "    <tr>\n",
              "      <th>2</th>\n",
              "      <td>And Hermes</td>\n",
              "      <td>0.0</td>\n",
              "      <td>0.0</td>\n",
              "    </tr>\n",
              "    <tr>\n",
              "      <th>3</th>\n",
              "      <td>: My focus : Beauty Estanyi Tukura \\n\\nDOLLAR ...</td>\n",
              "      <td>0.0</td>\n",
              "      <td>0.0</td>\n",
              "    </tr>\n",
              "    <tr>\n",
              "      <th>4</th>\n",
              "      <td>Unathi?😂😂😂</td>\n",
              "      <td>0.0</td>\n",
              "      <td>0.0</td>\n",
              "    </tr>\n",
              "    <tr>\n",
              "      <th>...</th>\n",
              "      <td>...</td>\n",
              "      <td>...</td>\n",
              "      <td>...</td>\n",
              "    </tr>\n",
              "    <tr>\n",
              "      <th>195</th>\n",
              "      <td>: 7. BEAUTY</td>\n",
              "      <td>0.0</td>\n",
              "      <td>0.0</td>\n",
              "    </tr>\n",
              "    <tr>\n",
              "      <th>196</th>\n",
              "      <td>I’m actually screaming 🤣🤣🤣🤣🤣🤣</td>\n",
              "      <td>0.1</td>\n",
              "      <td>0.0</td>\n",
              "    </tr>\n",
              "    <tr>\n",
              "      <th>197</th>\n",
              "      <td></td>\n",
              "      <td>0.0</td>\n",
              "      <td>0.0</td>\n",
              "    </tr>\n",
              "    <tr>\n",
              "      <th>198</th>\n",
              "      <td>Lmfao who will cry?</td>\n",
              "      <td>0.0</td>\n",
              "      <td>0.0</td>\n",
              "    </tr>\n",
              "    <tr>\n",
              "      <th>199</th>\n",
              "      <td>:</td>\n",
              "      <td>0.0</td>\n",
              "      <td>0.0</td>\n",
              "    </tr>\n",
              "  </tbody>\n",
              "</table>\n",
              "<p>200 rows × 3 columns</p>\n",
              "</div>\n",
              "      <button class=\"colab-df-convert\" onclick=\"convertToInteractive('df-73ffbc8a-89f7-4564-a2a8-8dea035fae15')\"\n",
              "              title=\"Convert this dataframe to an interactive table.\"\n",
              "              style=\"display:none;\">\n",
              "        \n",
              "  <svg xmlns=\"http://www.w3.org/2000/svg\" height=\"24px\"viewBox=\"0 0 24 24\"\n",
              "       width=\"24px\">\n",
              "    <path d=\"M0 0h24v24H0V0z\" fill=\"none\"/>\n",
              "    <path d=\"M18.56 5.44l.94 2.06.94-2.06 2.06-.94-2.06-.94-.94-2.06-.94 2.06-2.06.94zm-11 1L8.5 8.5l.94-2.06 2.06-.94-2.06-.94L8.5 2.5l-.94 2.06-2.06.94zm10 10l.94 2.06.94-2.06 2.06-.94-2.06-.94-.94-2.06-.94 2.06-2.06.94z\"/><path d=\"M17.41 7.96l-1.37-1.37c-.4-.4-.92-.59-1.43-.59-.52 0-1.04.2-1.43.59L10.3 9.45l-7.72 7.72c-.78.78-.78 2.05 0 2.83L4 21.41c.39.39.9.59 1.41.59.51 0 1.02-.2 1.41-.59l7.78-7.78 2.81-2.81c.8-.78.8-2.07 0-2.86zM5.41 20L4 18.59l7.72-7.72 1.47 1.35L5.41 20z\"/>\n",
              "  </svg>\n",
              "      </button>\n",
              "      \n",
              "  <style>\n",
              "    .colab-df-container {\n",
              "      display:flex;\n",
              "      flex-wrap:wrap;\n",
              "      gap: 12px;\n",
              "    }\n",
              "\n",
              "    .colab-df-convert {\n",
              "      background-color: #E8F0FE;\n",
              "      border: none;\n",
              "      border-radius: 50%;\n",
              "      cursor: pointer;\n",
              "      display: none;\n",
              "      fill: #1967D2;\n",
              "      height: 32px;\n",
              "      padding: 0 0 0 0;\n",
              "      width: 32px;\n",
              "    }\n",
              "\n",
              "    .colab-df-convert:hover {\n",
              "      background-color: #E2EBFA;\n",
              "      box-shadow: 0px 1px 2px rgba(60, 64, 67, 0.3), 0px 1px 3px 1px rgba(60, 64, 67, 0.15);\n",
              "      fill: #174EA6;\n",
              "    }\n",
              "\n",
              "    [theme=dark] .colab-df-convert {\n",
              "      background-color: #3B4455;\n",
              "      fill: #D2E3FC;\n",
              "    }\n",
              "\n",
              "    [theme=dark] .colab-df-convert:hover {\n",
              "      background-color: #434B5C;\n",
              "      box-shadow: 0px 1px 3px 1px rgba(0, 0, 0, 0.15);\n",
              "      filter: drop-shadow(0px 1px 2px rgba(0, 0, 0, 0.3));\n",
              "      fill: #FFFFFF;\n",
              "    }\n",
              "  </style>\n",
              "\n",
              "      <script>\n",
              "        const buttonEl =\n",
              "          document.querySelector('#df-73ffbc8a-89f7-4564-a2a8-8dea035fae15 button.colab-df-convert');\n",
              "        buttonEl.style.display =\n",
              "          google.colab.kernel.accessAllowed ? 'block' : 'none';\n",
              "\n",
              "        async function convertToInteractive(key) {\n",
              "          const element = document.querySelector('#df-73ffbc8a-89f7-4564-a2a8-8dea035fae15');\n",
              "          const dataTable =\n",
              "            await google.colab.kernel.invokeFunction('convertToInteractive',\n",
              "                                                     [key], {});\n",
              "          if (!dataTable) return;\n",
              "\n",
              "          const docLinkHtml = 'Like what you see? Visit the ' +\n",
              "            '<a target=\"_blank\" href=https://colab.research.google.com/notebooks/data_table.ipynb>data table notebook</a>'\n",
              "            + ' to learn more about interactive tables.';\n",
              "          element.innerHTML = '';\n",
              "          dataTable['output_type'] = 'display_data';\n",
              "          await google.colab.output.renderOutput(dataTable, element);\n",
              "          const docLink = document.createElement('div');\n",
              "          docLink.innerHTML = docLinkHtml;\n",
              "          element.appendChild(docLink);\n",
              "        }\n",
              "      </script>\n",
              "    </div>\n",
              "  </div>\n",
              "  "
            ]
          },
          "metadata": {},
          "execution_count": 8
        }
      ]
    },
    {
      "cell_type": "code",
      "source": [
        "#Plotting the word cloud.\n",
        "\n",
        "#Word cloud is the visualization technique that is used to illustrate specific and common words of the user\n",
        "\n",
        "allTweets = ''.join([tweets for tweets in data['Tweets_by_Swedish']])\n",
        "\n",
        "CloudWords = WordCloud(width = 500, height = 300, random_state = 21, max_font_size = 120).generate(allTweets)\n",
        "\n",
        "#plotting the graph\n",
        "plt.imshow(CloudWords, interpolation = 'bilinear')\n",
        "plt.axis('off')\n",
        "plt.show()"
      ],
      "metadata": {
        "colab": {
          "base_uri": "https://localhost:8080/",
          "height": 232
        },
        "id": "vG1gUucyLIHE",
        "outputId": "ec6e6cf7-bbdf-4933-b40e-fbe124489437"
      },
      "execution_count": 9,
      "outputs": [
        {
          "output_type": "display_data",
          "data": {
            "text/plain": [
              "<Figure size 432x288 with 1 Axes>"
            ],
            "image/png": "[encoded data removed]"
          },
          "metadata": {}
        }
      ]
    },
    {
      "cell_type": "code",
      "source": [
        "#create a function to compute the negative, neutral and positive analysis\n",
        "\n",
        "def analysis(score):\n",
        "    if score<0:\n",
        "        return 'Negative'\n",
        "    elif score==0:\n",
        "        return 'Neutral'\n",
        "    else:\n",
        "        return 'Positive'\n",
        "\n",
        "data['Analysis'] = data['Polarity'].apply(analysis)\n",
        "\n",
        "data"
      ],
      "metadata": {
        "colab": {
          "base_uri": "https://localhost:8080/",
          "height": 424
        },
        "id": "Y_Li8Kq-LPP9",
        "outputId": "31d51248-834b-42a0-db79-0b05457b4bb6"
      },
      "execution_count": 10,
      "outputs": [
        {
          "output_type": "execute_result",
          "data": {
            "text/plain": [
              "                                     Tweets_by_Swedish  Subjectivity  \\\n",
              "0     Ehn?? You didn’t watch the fashion tasks in t...           0.0   \n",
              "1                                                 Yes🗣           0.0   \n",
              "2                                          And Hermes            0.0   \n",
              "3    : My focus : Beauty Estanyi Tukura \\n\\nDOLLAR ...           0.0   \n",
              "4                                           Unathi?😂😂😂           0.0   \n",
              "..                                                 ...           ...   \n",
              "195                                       : 7. BEAUTY            0.0   \n",
              "196                      I’m actually screaming 🤣🤣🤣🤣🤣🤣           0.1   \n",
              "197                                                              0.0   \n",
              "198                               Lmfao who will cry?            0.0   \n",
              "199                                                 :            0.0   \n",
              "\n",
              "     Polarity Analysis  \n",
              "0         0.0  Neutral  \n",
              "1         0.0  Neutral  \n",
              "2         0.0  Neutral  \n",
              "3         0.0  Neutral  \n",
              "4         0.0  Neutral  \n",
              "..        ...      ...  \n",
              "195       0.0  Neutral  \n",
              "196       0.0  Neutral  \n",
              "197       0.0  Neutral  \n",
              "198       0.0  Neutral  \n",
              "199       0.0  Neutral  \n",
              "\n",
              "[200 rows x 4 columns]"
            ],
            "text/html": [
              "\n",
              "  <div id=\"df-03770925-f4f4-4f34-adb0-c77233a2843d\">\n",
              "    <div class=\"colab-df-container\">\n",
              "      <div>\n",
              "<style scoped>\n",
              "    .dataframe tbody tr th:only-of-type {\n",
              "        vertical-align: middle;\n",
              "    }\n",
              "\n",
              "    .dataframe tbody tr th {\n",
              "        vertical-align: top;\n",
              "    }\n",
              "\n",
              "    .dataframe thead th {\n",
              "        text-align: right;\n",
              "    }\n",
              "</style>\n",
              "<table border=\"1\" class=\"dataframe\">\n",
              "  <thead>\n",
              "    <tr style=\"text-align: right;\">\n",
              "      <th></th>\n",
              "      <th>Tweets_by_Swedish</th>\n",
              "      <th>Subjectivity</th>\n",
              "      <th>Polarity</th>\n",
              "      <th>Analysis</th>\n",
              "    </tr>\n",
              "  </thead>\n",
              "  <tbody>\n",
              "    <tr>\n",
              "      <th>0</th>\n",
              "      <td>Ehn?? You didn’t watch the fashion tasks in t...</td>\n",
              "      <td>0.0</td>\n",
              "      <td>0.0</td>\n",
              "      <td>Neutral</td>\n",
              "    </tr>\n",
              "    <tr>\n",
              "      <th>1</th>\n",
              "      <td>Yes🗣</td>\n",
              "      <td>0.0</td>\n",
              "      <td>0.0</td>\n",
              "      <td>Neutral</td>\n",
              "    </tr>\n",
              "    <tr>\n",
              "      <th>2</th>\n",
              "      <td>And Hermes</td>\n",
              "      <td>0.0</td>\n",
              "      <td>0.0</td>\n",
              "      <td>Neutral</td>\n",
              "    </tr>\n",
              "    <tr>\n",
              "      <th>3</th>\n",
              "      <td>: My focus : Beauty Estanyi Tukura \\n\\nDOLLAR ...</td>\n",
              "      <td>0.0</td>\n",
              "      <td>0.0</td>\n",
              "      <td>Neutral</td>\n",
              "    </tr>\n",
              "    <tr>\n",
              "      <th>4</th>\n",
              "      <td>Unathi?😂😂😂</td>\n",
              "      <td>0.0</td>\n",
              "      <td>0.0</td>\n",
              "      <td>Neutral</td>\n",
              "    </tr>\n",
              "    <tr>\n",
              "      <th>...</th>\n",
              "      <td>...</td>\n",
              "      <td>...</td>\n",
              "      <td>...</td>\n",
              "      <td>...</td>\n",
              "    </tr>\n",
              "    <tr>\n",
              "      <th>195</th>\n",
              "      <td>: 7. BEAUTY</td>\n",
              "      <td>0.0</td>\n",
              "      <td>0.0</td>\n",
              "      <td>Neutral</td>\n",
              "    </tr>\n",
              "    <tr>\n",
              "      <th>196</th>\n",
              "      <td>I’m actually screaming 🤣🤣🤣🤣🤣🤣</td>\n",
              "      <td>0.1</td>\n",
              "      <td>0.0</td>\n",
              "      <td>Neutral</td>\n",
              "    </tr>\n",
              "    <tr>\n",
              "      <th>197</th>\n",
              "      <td></td>\n",
              "      <td>0.0</td>\n",
              "      <td>0.0</td>\n",
              "      <td>Neutral</td>\n",
              "    </tr>\n",
              "    <tr>\n",
              "      <th>198</th>\n",
              "      <td>Lmfao who will cry?</td>\n",
              "      <td>0.0</td>\n",
              "      <td>0.0</td>\n",
              "      <td>Neutral</td>\n",
              "    </tr>\n",
              "    <tr>\n",
              "      <th>199</th>\n",
              "      <td>:</td>\n",
              "      <td>0.0</td>\n",
              "      <td>0.0</td>\n",
              "      <td>Neutral</td>\n",
              "    </tr>\n",
              "  </tbody>\n",
              "</table>\n",
              "<p>200 rows × 4 columns</p>\n",
              "</div>\n",
              "      <button class=\"colab-df-convert\" onclick=\"convertToInteractive('df-03770925-f4f4-4f34-adb0-c77233a2843d')\"\n",
              "              title=\"Convert this dataframe to an interactive table.\"\n",
              "              style=\"display:none;\">\n",
              "        \n",
              "  <svg xmlns=\"http://www.w3.org/2000/svg\" height=\"24px\"viewBox=\"0 0 24 24\"\n",
              "       width=\"24px\">\n",
              "    <path d=\"M0 0h24v24H0V0z\" fill=\"none\"/>\n",
              "    <path d=\"M18.56 5.44l.94 2.06.94-2.06 2.06-.94-2.06-.94-.94-2.06-.94 2.06-2.06.94zm-11 1L8.5 8.5l.94-2.06 2.06-.94-2.06-.94L8.5 2.5l-.94 2.06-2.06.94zm10 10l.94 2.06.94-2.06 2.06-.94-2.06-.94-.94-2.06-.94 2.06-2.06.94z\"/><path d=\"M17.41 7.96l-1.37-1.37c-.4-.4-.92-.59-1.43-.59-.52 0-1.04.2-1.43.59L10.3 9.45l-7.72 7.72c-.78.78-.78 2.05 0 2.83L4 21.41c.39.39.9.59 1.41.59.51 0 1.02-.2 1.41-.59l7.78-7.78 2.81-2.81c.8-.78.8-2.07 0-2.86zM5.41 20L4 18.59l7.72-7.72 1.47 1.35L5.41 20z\"/>\n",
              "  </svg>\n",
              "      </button>\n",
              "      \n",
              "  <style>\n",
              "    .colab-df-container {\n",
              "      display:flex;\n",
              "      flex-wrap:wrap;\n",
              "      gap: 12px;\n",
              "    }\n",
              "\n",
              "    .colab-df-convert {\n",
              "      background-color: #E8F0FE;\n",
              "      border: none;\n",
              "      border-radius: 50%;\n",
              "      cursor: pointer;\n",
              "      display: none;\n",
              "      fill: #1967D2;\n",
              "      height: 32px;\n",
              "      padding: 0 0 0 0;\n",
              "      width: 32px;\n",
              "    }\n",
              "\n",
              "    .colab-df-convert:hover {\n",
              "      background-color: #E2EBFA;\n",
              "      box-shadow: 0px 1px 2px rgba(60, 64, 67, 0.3), 0px 1px 3px 1px rgba(60, 64, 67, 0.15);\n",
              "      fill: #174EA6;\n",
              "    }\n",
              "\n",
              "    [theme=dark] .colab-df-convert {\n",
              "      background-color: #3B4455;\n",
              "      fill: #D2E3FC;\n",
              "    }\n",
              "\n",
              "    [theme=dark] .colab-df-convert:hover {\n",
              "      background-color: #434B5C;\n",
              "      box-shadow: 0px 1px 3px 1px rgba(0, 0, 0, 0.15);\n",
              "      filter: drop-shadow(0px 1px 2px rgba(0, 0, 0, 0.3));\n",
              "      fill: #FFFFFF;\n",
              "    }\n",
              "  </style>\n",
              "\n",
              "      <script>\n",
              "        const buttonEl =\n",
              "          document.querySelector('#df-03770925-f4f4-4f34-adb0-c77233a2843d button.colab-df-convert');\n",
              "        buttonEl.style.display =\n",
              "          google.colab.kernel.accessAllowed ? 'block' : 'none';\n",
              "\n",
              "        async function convertToInteractive(key) {\n",
              "          const element = document.querySelector('#df-03770925-f4f4-4f34-adb0-c77233a2843d');\n",
              "          const dataTable =\n",
              "            await google.colab.kernel.invokeFunction('convertToInteractive',\n",
              "                                                     [key], {});\n",
              "          if (!dataTable) return;\n",
              "\n",
              "          const docLinkHtml = 'Like what you see? Visit the ' +\n",
              "            '<a target=\"_blank\" href=https://colab.research.google.com/notebooks/data_table.ipynb>data table notebook</a>'\n",
              "            + ' to learn more about interactive tables.';\n",
              "          element.innerHTML = '';\n",
              "          dataTable['output_type'] = 'display_data';\n",
              "          await google.colab.output.renderOutput(dataTable, element);\n",
              "          const docLink = document.createElement('div');\n",
              "          docLink.innerHTML = docLinkHtml;\n",
              "          element.appendChild(docLink);\n",
              "        }\n",
              "      </script>\n",
              "    </div>\n",
              "  </div>\n",
              "  "
            ]
          },
          "metadata": {},
          "execution_count": 10
        }
      ]
    },
    {
      "cell_type": "code",
      "source": [
        "#Print out all the positive tweet\n",
        "\n",
        "i = 1\n",
        "polarData = data.sort_values(by=['Polarity'])\n",
        "\n",
        "for j in range(0, polarData.shape[0]):\n",
        "    if (polarData['Analysis'][j]=='Positive'):\n",
        "        print(str(i)+')'+polarData['Tweets_by_Swedish'][j])\n",
        "        print()\n",
        "        i = i+1"
      ],
      "metadata": {
        "colab": {
          "base_uri": "https://localhost:8080/"
        },
        "id": "_ikO7CRXLcrg",
        "outputId": "813a1a9a-a586-4cbc-c6a1-1e14cdc630b4"
      },
      "execution_count": 11,
      "outputs": [
        {
          "output_type": "stream",
          "name": "stdout",
          "text": [
            "1)Wow \n",
            "\n",
            "2)Proud of you 🤍 \n",
            "\n",
            "3): Can I get 200 replies? 💕\n",
            "\n",
            "DOLLAR QUEEN \n",
            "10 DAYS TO STRIKING 25\n",
            "BeautyTukura\n",
            "\n",
            "4): Beauty Tukura is one hot and stylish beauty queen 🥰🥰🔥 \n",
            "\n",
            "👩🏽  \n",
            "\n",
            "ZenMagazine BeautyTukura \n",
            "\n",
            "5)This whole scene from when he entered the hall had me crying like a baby . So emotional. A father’s love 🤍🤍 \n",
            "\n",
            "6)Hermes must win best dressed abeg.\n",
            "\n",
            "7) BEAUTY TUKURA IS ENOUGH \n",
            "BEAUTY SAID LOVE AND LIGHT \n",
            "BeautyTukura \n",
            "BeeNavy\n",
            "\n",
            "8): BEAUTY TUKURA IS ENOUGH \n",
            "BEAUTY SAID LOVE AND LIGHT \n",
            "BeautyTukura \n",
            "BeeNavy \n",
            "\n",
            "9): Thank You Paddy Considine for being the absolute best King Viserys we could have ever asked for HouseOfTheDragon \n",
            "\n",
            "10)_Onyi_: Good morning to people that stan Nengi and Beauty Tukura... You get taste die\n",
            "\n",
            "11) Lmao\n",
            "\n",
            "12) Nonsense 😑😑. And you’re welcome\n",
            "\n",
            "13) I wasn’t doing anything sha. I was going through the people I follow on snap videos. Was surprised to see her on timini’s snap. Na content I dey bring for you . You didn’t even say thank you 😒\n",
            "\n",
            "14) Lmao\n",
            "\n",
            "15)_D See! And it’s suits her so much!. Her fans definitely know who they stan. An Aesthetically pleasing venue/decor for an aesthetically pleasing babe.\n",
            "\n",
            "16): Pretty Mike has been invited to our birthday party 🤣💕💕\n",
            "\n",
            "BeautyTukura \n",
            "\n",
            "17): Beauty is that girlie. Top babe.\n",
            "\n",
            "18)She’s so beautiful 😭 \n",
            "\n",
            "19)____: Her post show &gt;&gt;&gt;&gt; love it.\n",
            "\n",
            "20)_sassy: Why so fine? 🥹🔥\n",
            "\n",
            "Saskay \n",
            "\n",
            "21): The verse I was trying to remember is “Habakkuk 2:2”…you’re welcome BeeNavy ⚓️❤️❤️\n",
            "\n",
            "SpaceWithBeauty\n",
            "\n",
            "22)Ayeee Bryann is playing a new jam for us \n",
            "\n",
            "23): Beauty 🤌🏾 sound babe\n",
            "\n",
            "24): Watch out for this epic show🤭\n",
            "\n",
            " \n",
            "\n",
            "25): I'm so happy she can see and feel the love. She deserves mehn 🤧❤️  Forget, Beauty is loved.\n",
            "\n",
            "26): I needed to experience everything that happened by myself so I can learn more about myself so I can move on ❤️\n",
            "\n",
            "- Beauty Tu…\n",
            "\n",
            "27): Beauty Tukura is very clear \n",
            "Her fans should keep hyping her she’s worth it\n",
            "\n",
            "28): Me too, especially for those who didn't get a chance to watch her.. Now, they were able to experience how awesome and s…\n",
            "\n",
            "29): Beauty is the first bbnaija housemate I have seen acknowledge her faults, stepped back to take time out to reflect and co…\n",
            "\n",
            "30): Girls that are articulate&gt;&gt;\n",
            "Girls that are independent with means of livelihood&gt;&gt;\n",
            "Girls that are intelligent, brilliant and…\n",
            "\n",
            "31)_koto: Nah i will always join her spaces. it was soo interesting\n",
            "\n",
            "32)I’m so glad over 3k people were on this space to listen to  her 🫠 \n",
            "\n",
            "33)_rai: Beauty is a confident babe, she speaks so well 🤌BBNaija\n",
            "\n",
            "34): Ok Beauty had me with that, Accountability,no but’s, acknowledging where she erred and taking steps to be better is actuall…\n",
            "\n",
            "35): BeeNavy welcome me💃💃💃💃💃 \n",
            "I have seen the light 🙌🙌🙌🙌\n",
            "\n",
            "36): The space is like lecture room. So calm when she speaks\n",
            "\n",
            "37)See a successful business babe! \n",
            "\n",
            "38): I love Beauty so much\n",
            "\n",
            "39)_Unathi: : pls, I love Beauty 🤣❤️\n",
            "\n",
            "40): I’m sure this babe’s friends thoroughly enjoy her, even in the house, she was just that friend, the type of friend that em…\n",
            "\n",
            "41): Beauty is special❤️ a top tier babe\n",
            "\n",
            "42): Beauty is a TOP BABE!!!! She’s eloquent and she stays grateful!!!! bbnaija\n",
            "\n",
            "43): Beauty is the IT girl\n",
            "...She has worked so hard...she's more than what you think..Babe has papers 💸💸💸 BBNAIJA\n",
            "\n",
            "44): “I was earning money in dollars” “I had 4 streams of income” then they wonder why she’s a Dollar Queen! The most driven h…\n",
            "\n",
            "45): Beauty is so intelligent and well spoken bbnaija\n",
            "\n",
            "46): Lol beauty’s space is doing numbers BBNaija\n",
            "\n",
            "47): She’s such a great friend. Always has her people’s back🤧🖤\n",
            "\n",
            "48)_aa: I really enjoy my own company, I don’t have to hang around nobody to feel relevant. I’m a whole and complete being. I lo…\n",
            "\n",
            "49): How far ? 🤣\n",
            "\n",
            "50) Lmao\n",
            "\n",
            "51) Lmao\n",
            "\n",
            "52)Modella 🤝 Soft life\n",
            "\n",
            "53)_xo: If she doesn’t have star power, I don’t think her silence will have so much power either. But she does and it does. LOL Beaut…\n",
            "\n",
            "54)This your tears sweet oh. I fit use am make tea 🤣 \n",
            "\n",
            "55)They keep tweeting at us when we reply , they’ll say we want relevance. But una first tweet about us, so who’s giving who relevance? \n",
            "\n",
            "56)Na the star power gan gan is the reason they are shedding hot tears about her silence 🤭 \n",
            "\n",
            "57) I believe you have eyes to see she hasn’t granted any interviews. Are you normal?\n",
            "\n",
            "58): Okay let’s gooooo🥳🥳🥳\n",
            "\n"
          ]
        }
      ]
    },
    {
      "cell_type": "code",
      "source": [
        "#Print out all the negative tweet\n",
        "i = 1\n",
        "polarData = data.sort_values(by=['Polarity'], ascending = 'False')\n",
        "for j in range(0, polarData.shape[0]):\n",
        "    if (polarData['Analysis'][j]=='Negative'):\n",
        "        print(str(i)+')'+polarData['Tweets_by_Swedish'][j])\n",
        "        print()\n",
        "        i = i+1"
      ],
      "metadata": {
        "colab": {
          "base_uri": "https://localhost:8080/"
        },
        "id": "PAqZBG2iLjTz",
        "outputId": "d6f1e418-5232-4310-aae6-9f443bb71725"
      },
      "execution_count": 12,
      "outputs": [
        {
          "output_type": "stream",
          "name": "stdout",
          "text": [
            "1): This girl here is slowly cementing herself in the fashion industry\n",
            "When they realise it will be too late\n",
            "\n",
            "2)Bad To Me is so clear 🔥🔥🔥\n",
            "\n",
            "3)_odus: I knew her through forex trading...she hosted an event for a big forex company few weeks b4 going into the house, Beauty…\n",
            "\n",
            "4): I didn't watch Beauty in the house at all and I'm curious to know her. I joined this space to start and she's doing well💕\n",
            "\n",
            "5): Beauty is my kind of person tbt . The insights toh bad\n",
            "\n",
            "6): There’s absolutely no reason not to like Beauty post show, unless you’re a winch.\n",
            "\n",
            "7)Awww Beauty saying she’s obsessed with Bryann’s songs and we should go and listen to them ❤️\n",
            "\n",
            "8)She’s so annoying 🤣 \n",
            "\n",
            "9)_May Keep saying this until you believe it dearie . You guys will continue to be desperate for her to hear your faves name roll out from her tongue. \n",
            "\n",
            "10) Na wetin they desperately want 🤣\n",
            "\n",
            "11)You people are angry that she ain’t granting any interviews so far . You want her to talk about your fave so baaaaaaad!!!! \n",
            "\n",
            "She will never ever speak on your dirty fave. Not in this life or the next. We have a birthday to celebrate 💃🏽 \n",
            "\n",
            "12)  The same stupidity too that made your babe an ode in the house for 9weeks\n",
            "\n",
            "13) I will jump on whoever the fks tweet I want to jump to. Like I said, stop being a chicken babe\n",
            "\n",
            "14)Oh please hush. Like you haven’t been seeing the subs toward BeeNavy. Don’t be a chicken. You  want people to care so bad, Abegi \n",
            "\n"
          ]
        }
      ]
    },
    {
      "cell_type": "code",
      "source": [
        "#let's visualize the subjectivity and polarity using scatter plot.\n",
        "\n",
        "plt.figure(figsize=(10,8))\n",
        "for i in range (0, data.shape[0]):\n",
        "    plt.scatter(data['Polarity'][i], data['Subjectivity'][i], color='Red')\n",
        "    \n",
        "plt.title('Swedish Twitter Sentiment Analysis')\n",
        "plt.xlabel('Polarity')\n",
        "plt.ylabel('Subjectivity')\n",
        "plt.show()"
      ],
      "metadata": {
        "colab": {
          "base_uri": "https://localhost:8080/",
          "height": 513
        },
        "id": "HTCuo87YLuBH",
        "outputId": "699fbecf-7b45-4ba0-f3cc-ad43232fe2ee"
      },
      "execution_count": 13,
      "outputs": [
        {
          "output_type": "display_data",
          "data": {
            "text/plain": [
              "<Figure size 720x576 with 1 Axes>"
            ],
            "image/png": "[encoded data removed]"
          },
          "metadata": {}
        }
      ]
    },
    {
      "cell_type": "code",
      "source": [
        "# Observation\n",
        "\n",
        "#From the scattered plot, you can deduce that there are more positive tweet than negative tweet and because of this, the values are alligned to the positive side more than the negative"
      ],
      "metadata": {
        "id": "R3VQa_jjL3eZ"
      },
      "execution_count": 14,
      "outputs": []
    },
    {
      "cell_type": "code",
      "source": [
        "#Using a count plot for this visualization\n",
        "sns.countplot(x='Subjectivity', data=data)"
      ],
      "metadata": {
        "colab": {
          "base_uri": "https://localhost:8080/",
          "height": 296
        },
        "id": "0K-luRYnMH1J",
        "outputId": "56d670d5-083e-4250-a2fd-31713e015535"
      },
      "execution_count": 15,
      "outputs": [
        {
          "output_type": "execute_result",
          "data": {
            "text/plain": [
              "<matplotlib.axes._subplots.AxesSubplot at 0x7f1509999450>"
            ]
          },
          "metadata": {},
          "execution_count": 15
        },
        {
          "output_type": "display_data",
          "data": {
            "text/plain": [
              "<Figure size 432x288 with 1 Axes>"
            ],
            "image/png": "[encoded data removed]"
          },
          "metadata": {}
        }
      ]
    },
    {
      "cell_type": "code",
      "source": [
        "sns.countplot(x='Polarity', data=data)"
      ],
      "metadata": {
        "colab": {
          "base_uri": "https://localhost:8080/",
          "height": 296
        },
        "id": "Zt14yDj-MQrJ",
        "outputId": "bfa2f1dc-30ec-4a51-c9e9-2b1802a61d5e"
      },
      "execution_count": 16,
      "outputs": [
        {
          "output_type": "execute_result",
          "data": {
            "text/plain": [
              "<matplotlib.axes._subplots.AxesSubplot at 0x7f1509b018d0>"
            ]
          },
          "metadata": {},
          "execution_count": 16
        },
        {
          "output_type": "display_data",
          "data": {
            "text/plain": [
              "<Figure size 432x288 with 1 Axes>"
            ],
            "image/png": "[encoded data removed]"
          },
          "metadata": {}
        }
      ]
    },
    {
      "cell_type": "code",
      "source": [
        "#Using Countplot to visualize the volume of Positive, Negative or Neutral Tweets\n",
        "sns.countplot(x='Analysis', data=data)"
      ],
      "metadata": {
        "colab": {
          "base_uri": "https://localhost:8080/",
          "height": 296
        },
        "id": "yxYoUmMIMU-3",
        "outputId": "2377a1dc-f152-49ab-f47c-f507f2601272"
      },
      "execution_count": 17,
      "outputs": [
        {
          "output_type": "execute_result",
          "data": {
            "text/plain": [
              "<matplotlib.axes._subplots.AxesSubplot at 0x7f1509b1e310>"
            ]
          },
          "metadata": {},
          "execution_count": 17
        },
        {
          "output_type": "display_data",
          "data": {
            "text/plain": [
              "<Figure size 432x288 with 1 Axes>"
            ],
            "image/png": "[encoded data removed]"
          },
          "metadata": {}
        }
      ]
    },
    {
      "cell_type": "code",
      "source": [
        "#Calculating for the persentage of negative and positive tweets\n",
        "\n",
        "#For Negative\n",
        "\n",
        "PositiveTweets = data[data.Analysis == 'Positive']\n",
        "\n",
        "PositiveTweets = PositiveTweets['Tweets_by_Swedish']\n",
        "round( (PositiveTweets.shape[0]/data.shape[0]) *100, 1)\n",
        "\n"
      ],
      "metadata": {
        "colab": {
          "base_uri": "https://localhost:8080/"
        },
        "id": "c9M4qrejMaxm",
        "outputId": "90c019c7-3468-4cec-9c38-536c93bac60b"
      },
      "execution_count": 18,
      "outputs": [
        {
          "output_type": "execute_result",
          "data": {
            "text/plain": [
              "29.0"
            ]
          },
          "metadata": {},
          "execution_count": 18
        }
      ]
    },
    {
      "cell_type": "code",
      "source": [
        "#For Negative Tweets\n",
        "\n",
        "NegativeTweets = data[data.Analysis == 'Negative']\n",
        "\n",
        "NegativeTweets = NegativeTweets['Tweets_by_Swedish']\n",
        "\n",
        "round( (NegativeTweets.shape[0]/data.shape[0]) *100, 1)"
      ],
      "metadata": {
        "colab": {
          "base_uri": "https://localhost:8080/"
        },
        "id": "eBAyPLQFMkvK",
        "outputId": "3481a85f-c648-451d-8274-a447e0d36e98"
      },
      "execution_count": 19,
      "outputs": [
        {
          "output_type": "execute_result",
          "data": {
            "text/plain": [
              "7.0"
            ]
          },
          "metadata": {},
          "execution_count": 19
        }
      ]
    },
    {
      "cell_type": "code",
      "source": [
        "#For Neutral Tweets\n",
        "\n",
        "NeutralTweets = data[data.Analysis == 'Neutral']\n",
        "\n",
        "NeutraTweets = NeutralTweets['Tweets_by_Swedish']\n",
        "\n",
        "round( (NeutralTweets.shape[0]/data.shape[0]) *100, 1)"
      ],
      "metadata": {
        "colab": {
          "base_uri": "https://localhost:8080/"
        },
        "id": "nf8pwDXeMthS",
        "outputId": "d1efb776-92ab-445f-c270-95aeef72620d"
      },
      "execution_count": 20,
      "outputs": [
        {
          "output_type": "execute_result",
          "data": {
            "text/plain": [
              "64.0"
            ]
          },
          "metadata": {},
          "execution_count": 20
        }
      ]
    },
    {
      "cell_type": "code",
      "source": [],
      "metadata": {
        "id": "EBXb7nRuM3ib"
      },
      "execution_count": 20,
      "outputs": []
    }
  ]
}